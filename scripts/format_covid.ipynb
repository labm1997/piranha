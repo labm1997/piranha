{
 "cells": [
  {
   "cell_type": "code",
   "execution_count": 1,
   "metadata": {},
   "outputs": [],
   "source": [
    "import numpy as np\n",
    "import matplotlib.pyplot as plt\n",
    "import cv2"
   ]
  },
  {
   "cell_type": "code",
   "execution_count": 13,
   "metadata": {},
   "outputs": [],
   "source": [
    "def resize_to_resnet_imagenet(x):\n",
    "    return np.array([cv2.resize(i, (224,224)) for i in x])\n",
    "\n",
    "def hot_encode(y):\n",
    "    return np.array([[1,0] if e == 0 else [0,1] for e in y])\n",
    "\n",
    "def save(filename, data):\n",
    "    with open(filename, \"w\") as file:\n",
    "        for v in data.flatten():\n",
    "            file.write(str(v) + \"\\n\")"
   ]
  },
  {
   "cell_type": "code",
   "execution_count": 9,
   "metadata": {},
   "outputs": [],
   "source": [
    "x_train_normal = np.load(\"../files/COVID/x_train_normal.npy\")\n",
    "x_train_inverter = np.load(\"../files/COVID/x_train_inverter.npy\")\n",
    "y_train = np.load(\"../files/COVID/y_train.npy\")\n",
    "x_validation_normal = np.load(\"../files/COVID/x_validation_normal.npy\")\n",
    "x_validation_inverter = np.load(\"../files/COVID/x_validation_inverter.npy\")\n",
    "y_validation = np.load(\"../files/COVID/y_validation.npy\")"
   ]
  },
  {
   "cell_type": "code",
   "execution_count": 10,
   "metadata": {},
   "outputs": [],
   "source": [
    "x_train_normal_resized = resize_to_resnet_imagenet(x_train_normal)\n",
    "x_train_inverter_resized = resize_to_resnet_imagenet(x_train_inverter)\n",
    "x_validation_normal_resized = resize_to_resnet_imagenet(x_validation_normal)\n",
    "x_validation_inverter_resized = resize_to_resnet_imagenet(x_validation_inverter)\n",
    "\n",
    "y_train_encoded = hot_encode(y_train)\n",
    "y_validation_encoded = hot_encode(y_validation)"
   ]
  },
  {
   "cell_type": "code",
   "execution_count": 11,
   "metadata": {},
   "outputs": [
    {
     "name": "stdout",
     "output_type": "stream",
     "text": [
      "(601, 224, 224)\n",
      "(601, 224, 224)\n",
      "(258, 224, 224)\n",
      "(258, 224, 224)\n",
      "(601, 2)\n",
      "(258, 2)\n"
     ]
    }
   ],
   "source": [
    "print(x_train_normal_resized.shape)\n",
    "print(x_train_inverter_resized.shape)\n",
    "print(x_validation_normal_resized.shape)\n",
    "print(x_validation_inverter_resized.shape)\n",
    "\n",
    "print(y_train_encoded.shape)\n",
    "print(y_validation_encoded.shape)"
   ]
  },
  {
   "cell_type": "code",
   "execution_count": 15,
   "metadata": {},
   "outputs": [],
   "source": [
    "save(\"../files/COVID/train_data\", x_train_normal_resized)\n",
    "save(\"../files/COVID/test_data\", x_validation_normal_resized)\n",
    "save(\"../files/COVID/train_labels\", y_train_encoded)\n",
    "save(\"../files/COVID/test_labels\", y_validation_encoded)"
   ]
  },
  {
   "cell_type": "code",
   "execution_count": null,
   "metadata": {},
   "outputs": [],
   "source": []
  }
 ],
 "metadata": {
  "kernelspec": {
   "display_name": "Python 3",
   "language": "python",
   "name": "python3"
  },
  "language_info": {
   "codemirror_mode": {
    "name": "ipython",
    "version": 3
   },
   "file_extension": ".py",
   "mimetype": "text/x-python",
   "name": "python",
   "nbconvert_exporter": "python",
   "pygments_lexer": "ipython3",
   "version": "3.11.2"
  },
  "orig_nbformat": 4
 },
 "nbformat": 4,
 "nbformat_minor": 2
}
